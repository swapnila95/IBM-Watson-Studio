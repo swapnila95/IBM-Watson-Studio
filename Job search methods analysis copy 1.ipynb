{
    "cells": [
        {
            "cell_type": "markdown",
            "metadata": {},
            "source": "<h1>DESCRIPTION</h1>\njob search method analysis"
        },
        {
            "cell_type": "code",
            "execution_count": 1,
            "metadata": {},
            "outputs": [
                {
                    "name": "stdout",
                    "output_type": "stream",
                    "text": "Waiting for a Spark session to start...\nSpark Initialization Done! ApplicationId = app-20210822144024-0000\nKERNEL_ID = 0e5269f1-f0d2-4f3c-9eb4-7ba24dabdda9\n"
                },
                {
                    "data": {
                        "text/plain": "[Row(Code='1', Job_search_methods='Looked at job advertisements', Unemployed_census_usually_resident_population_count_aged_15_years_and_over='127077'),\n Row(Code='2', Job_search_methods='Wrote, phoned or applied in person to an employer', Unemployed_census_usually_resident_population_count_aged_15_years_and_over='71487'),\n Row(Code='3', Job_search_methods='Contacted Work and Income to look for a job', Unemployed_census_usually_resident_population_count_aged_15_years_and_over='33369'),\n Row(Code='4', Job_search_methods='Contacted friends or relatives for help in finding a job', Unemployed_census_usually_resident_population_count_aged_15_years_and_over='69543'),\n Row(Code='5', Job_search_methods='Contacted career advisers or vocational guidance officers', Unemployed_census_usually_resident_population_count_aged_15_years_and_over='22311')]"
                    },
                    "execution_count": 1,
                    "metadata": {},
                    "output_type": "execute_result"
                }
            ],
            "source": "# The code was removed by Watson Studio for sharing."
        },
        {
            "cell_type": "code",
            "execution_count": null,
            "metadata": {},
            "outputs": [],
            "source": ""
        }
    ],
    "metadata": {
        "kernelspec": {
            "display_name": "Python 3.7 with Spark",
            "language": "python3",
            "name": "python37"
        },
        "language_info": {
            "codemirror_mode": {
                "name": "ipython",
                "version": 3
            },
            "file_extension": ".py",
            "mimetype": "text/x-python",
            "name": "python",
            "nbconvert_exporter": "python",
            "pygments_lexer": "ipython3",
            "version": "3.7.10"
        }
    },
    "nbformat": 4,
    "nbformat_minor": 1
}