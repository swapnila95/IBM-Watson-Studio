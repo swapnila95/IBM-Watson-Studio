{
    "cells": [
        {
            "cell_type": "markdown",
            "metadata": {},
            "source": "<h1>DESCRIPTION</h1>\njob search method analysis"
        },
        {
            "cell_type": "code",
            "execution_count": 2,
            "metadata": {},
            "outputs": [
                {
                    "name": "stdout",
                    "output_type": "stream",
                    "text": "+----+--------------------+--------------------------------------------------------------------------+\n|Code|  Job_search_methods|Unemployed_census_usually_resident_population_count_aged_15_years_and_over|\n+----+--------------------+--------------------------------------------------------------------------+\n|   1|Looked at job adv...|                                                                    127077|\n|   2|Wrote, phoned or ...|                                                                     71487|\n|   3|Contacted Work an...|                                                                     33369|\n|   4|Contacted friends...|                                                                     69543|\n|   5|Contacted career ...|                                                                     22311|\n+----+--------------------+--------------------------------------------------------------------------+\nonly showing top 5 rows\n\n"
                },
                {
                    "data": {
                        "text/plain": "configurationName = os_459bbe7a9d814c5a8a4abd09cd1bcb18_configs\nendpoint_459bbe7a9d814c5a8a4abd09cd1bcb18 = https://s3.private.eu.cloud-object-storage.appdomain.cloud\ncos = com.ibm.ibmos2spark.CloudObjectStorage@10190a1a\nspark = org.apache.spark.sql.SparkSession@c4f14ccb\ndfData1 = [Code: string, Job_search_methods: string ... 1 more field]\n"
                    },
                    "metadata": {},
                    "output_type": "display_data"
                },
                {
                    "data": {
                        "text/plain": "getCredentials: ()scala.collection.mutable.HashMap[String,String]\n"
                    },
                    "metadata": {},
                    "output_type": "display_data"
                },
                {
                    "data": {
                        "text/plain": "[Code: string, Job_search_methods: string ... 1 more field]"
                    },
                    "execution_count": 2,
                    "metadata": {},
                    "output_type": "execute_result"
                }
            ],
            "source": "// The code was removed by Watson Studio for sharing."
        },
        {
            "cell_type": "code",
            "execution_count": null,
            "metadata": {},
            "outputs": [],
            "source": ""
        }
    ],
    "metadata": {
        "kernelspec": {
            "display_name": "Scala 2.11 with Spark",
            "language": "scala",
            "name": "scala"
        },
        "language_info": {
            "codemirror_mode": "text/x-scala",
            "file_extension": ".scala",
            "mimetype": "text/x-scala",
            "name": "scala",
            "pygments_lexer": "scala",
            "version": "2.11.12"
        }
    },
    "nbformat": 4,
    "nbformat_minor": 1
}