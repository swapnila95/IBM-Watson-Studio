{
    "cells": [
        {
            "cell_type": "markdown",
            "metadata": {},
            "source": "DESCRIPTION\nThis notebook analyzes and visualizes job search data"
        },
        {
            "cell_type": "code",
            "execution_count": 1,
            "metadata": {},
            "outputs": [
                {
                    "data": {
                        "text/html": "<div>\n<style scoped>\n    .dataframe tbody tr th:only-of-type {\n        vertical-align: middle;\n    }\n\n    .dataframe tbody tr th {\n        vertical-align: top;\n    }\n\n    .dataframe thead th {\n        text-align: right;\n    }\n</style>\n<table border=\"1\" class=\"dataframe\">\n  <thead>\n    <tr style=\"text-align: right;\">\n      <th></th>\n      <th>Code</th>\n      <th>Job_search_methods</th>\n      <th>Unemployed_census_usually_resident_population_count_aged_15_years_and_over</th>\n    </tr>\n  </thead>\n  <tbody>\n    <tr>\n      <th>0</th>\n      <td>1</td>\n      <td>Looked at job advertisements</td>\n      <td>127077</td>\n    </tr>\n    <tr>\n      <th>1</th>\n      <td>2</td>\n      <td>Wrote, phoned or applied in person to an employer</td>\n      <td>71487</td>\n    </tr>\n    <tr>\n      <th>2</th>\n      <td>3</td>\n      <td>Contacted Work and Income to look for a job</td>\n      <td>33369</td>\n    </tr>\n    <tr>\n      <th>3</th>\n      <td>4</td>\n      <td>Contacted friends or relatives for help in fin...</td>\n      <td>69543</td>\n    </tr>\n    <tr>\n      <th>4</th>\n      <td>5</td>\n      <td>Contacted career advisers or vocational guidan...</td>\n      <td>22311</td>\n    </tr>\n  </tbody>\n</table>\n</div>",
                        "text/plain": "  Code                                 Job_search_methods  \\\n0    1                       Looked at job advertisements   \n1    2  Wrote, phoned or applied in person to an employer   \n2    3        Contacted Work and Income to look for a job   \n3    4  Contacted friends or relatives for help in fin...   \n4    5  Contacted career advisers or vocational guidan...   \n\n   Unemployed_census_usually_resident_population_count_aged_15_years_and_over  \n0                                             127077                           \n1                                              71487                           \n2                                              33369                           \n3                                              69543                           \n4                                              22311                           "
                    },
                    "execution_count": 1,
                    "metadata": {},
                    "output_type": "execute_result"
                }
            ],
            "source": "# The code was removed by Watson Studio for sharing."
        },
        {
            "cell_type": "code",
            "execution_count": null,
            "metadata": {},
            "outputs": [],
            "source": ""
        }
    ],
    "metadata": {
        "kernelspec": {
            "display_name": "Python 3.8",
            "language": "python",
            "name": "python3"
        },
        "language_info": {
            "codemirror_mode": {
                "name": "ipython",
                "version": 3
            },
            "file_extension": ".py",
            "mimetype": "text/x-python",
            "name": "python",
            "nbconvert_exporter": "python",
            "pygments_lexer": "ipython3",
            "version": "3.8.10"
        }
    },
    "nbformat": 4,
    "nbformat_minor": 1
}